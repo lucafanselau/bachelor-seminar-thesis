{
 "cells": [
  {
   "cell_type": "code",
   "execution_count": 14,
   "metadata": {},
   "outputs": [],
   "source": [
    "import pandas as pd\n",
    "import numpy as np"
   ]
  },
  {
   "cell_type": "code",
   "execution_count": 15,
   "metadata": {},
   "outputs": [
    {
     "name": "stderr",
     "output_type": "stream",
     "text": [
      "/Users/luca/mambaforge/lib/python3.10/site-packages/IPython/core/interactiveshell.py:3457: DtypeWarning: Columns (106,113,125,126,129,131,134,142,143,156,157,158,165,166,169,176,177,181,182,185,186,190,192,202,207,221) have mixed types.Specify dtype option on import or set low_memory=False.\n",
      "  exec(code_obj, self.user_global_ns, self.user_ns)\n"
     ]
    }
   ],
   "source": [
    "df = pd.read_csv(\"../data/zensus.csv\",encoding=\"ISO-8859-1\",sep=\",\")"
   ]
  },
  {
   "cell_type": "code",
   "execution_count": 16,
   "metadata": {},
   "outputs": [
    {
     "data": {
      "text/plain": [
       "Index(['AGS_12', 'RS_Land', 'RS_RB_NUTS2', 'RS_Kreis', 'RS_VB', 'RS_Gem',\n",
       "       'Name', 'Reg_Hier', 'AEWZ', 'DEM_1.1',\n",
       "       ...\n",
       "       'BIL_4.9', 'BIL_4.10', 'BIL_5.1', 'BIL_5.2', 'BIL_5.3', 'BIL_5.4',\n",
       "       'BIL_5.5', 'BIL_5.6', 'BIL_5.7', 'BIL_5.8'],\n",
       "      dtype='object', length=223)"
      ]
     },
     "execution_count": 16,
     "metadata": {},
     "output_type": "execute_result"
    }
   ],
   "source": [
    "df.columns"
   ]
  },
  {
   "cell_type": "code",
   "execution_count": 19,
   "metadata": {},
   "outputs": [],
   "source": [
    "# This data is gathered from another zensus dataset\n",
    "ages = np.array([827646,857047,941714,963052,976766,987602,966263,953923,958134,965314,994057,1000413,991222,966128,936186,939630,917961,895568,901342,912022,954241,1078761,1141426,1204873,1289938,1345824,1367864,1395013,1416397,1429873,1396186,1360874,1326581,1293311,1233802,1197698,1153789,1132179,1106508,1068959,1057627,1053491,1026659,1021985,952128,865528,836028,605909,799506,902787,861102,1004000,990420,1097279,997174,914869,861483,811493,772418,604799,544174,537399,536353,511847,475503,424552,379828,346065,302287,254206,228373,204145,169319,133114,54758,39671,33738,28246,31393,22158,14750,9497,13445])"
   ]
  },
  {
   "cell_type": "code",
   "execution_count": 21,
   "metadata": {},
   "outputs": [],
   "source": [
    "total_data_size = ages.sum()\n",
    "p_ages = ages / total_data_size"
   ]
  },
  {
   "cell_type": "code",
   "execution_count": 31,
   "metadata": {},
   "outputs": [
    {
     "data": {
      "text/plain": [
       "(49, 67077593)"
      ]
     },
     "execution_count": 31,
     "metadata": {},
     "output_type": "execute_result"
    }
   ],
   "source": [
    "np.random.choice(np.arange(18, 101), p=p_ages)"
   ]
  },
  {
   "cell_type": "code",
   "execution_count": 32,
   "metadata": {},
   "outputs": [],
   "source": [
    "college_counts = np.array([3985640, 5471080, 908970])\n",
    "college_part = college_counts.sum() / 68909110;"
   ]
  },
  {
   "cell_type": "code",
   "execution_count": 36,
   "metadata": {},
   "outputs": [
    {
     "data": {
      "text/plain": [
       "True"
      ]
     },
     "execution_count": 36,
     "metadata": {},
     "output_type": "execute_result"
    }
   ],
   "source": [
    "np.random.choice([False, True], p=[1 - college_part, college_part])"
   ]
  },
  {
   "cell_type": "code",
   "execution_count": null,
   "metadata": {},
   "outputs": [],
   "source": []
  }
 ],
 "metadata": {
  "interpreter": {
   "hash": "ed12f06e45608676005dc967d1975705358fa64279e345b8c2fbaa7d4b34d0db"
  },
  "kernelspec": {
   "display_name": "Python 3.10.1 64-bit ('base': conda)",
   "language": "python",
   "name": "python3"
  },
  "language_info": {
   "codemirror_mode": {
    "name": "ipython",
    "version": 3
   },
   "file_extension": ".py",
   "mimetype": "text/x-python",
   "name": "python",
   "nbconvert_exporter": "python",
   "pygments_lexer": "ipython3",
   "version": "3.10.1"
  },
  "orig_nbformat": 4
 },
 "nbformat": 4,
 "nbformat_minor": 2
}
